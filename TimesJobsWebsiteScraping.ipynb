{
 "cells": [
  {
   "cell_type": "code",
   "execution_count": 1,
   "id": "391ce293-f239-47f6-9844-4a15bc6f4cb5",
   "metadata": {},
   "outputs": [],
   "source": [
    "from bs4 import BeautifulSoup"
   ]
  },
  {
   "cell_type": "code",
   "execution_count": 9,
   "id": "bc40d1b9-ca4a-4251-87b7-0f4acf499894",
   "metadata": {},
   "outputs": [],
   "source": [
    "import requests\n",
    "import time\n",
    "import os\n",
    "import csv"
   ]
  },
  {
   "cell_type": "code",
   "execution_count": 3,
   "id": "f2115116-5946-4ee1-b211-6cc87b528c05",
   "metadata": {},
   "outputs": [],
   "source": [
    "html_text=requests.get('https://www.timesjobs.com/candidate/job-search.html?searchType=personalizedSearch&from=submit&searchTextSrc=&searchTextText=&txtKeywords=python&txtLocation=').text\n",
    "# print(html_text)\n"
   ]
  },
  {
   "cell_type": "code",
   "execution_count": 4,
   "id": "82c934cb-5e59-4e25-ab93-b6a5930d37bf",
   "metadata": {},
   "outputs": [],
   "source": [
    "soup=BeautifulSoup(html_text,'lxml')"
   ]
  },
  {
   "cell_type": "code",
   "execution_count": 8,
   "id": "7f9407aa-e45e-4539-a238-773d03e9bc0e",
   "metadata": {},
   "outputs": [
    {
     "name": "stdout",
     "output_type": "stream",
     "text": [
      "\n",
      "\n",
      "\n",
      "\n",
      "\n",
      "\n",
      "\n",
      "\n",
      "\n",
      "\n",
      "\n",
      "\n",
      "\n",
      "\n",
      "\n",
      "\n",
      "\n",
      "\n",
      "\n",
      "\n",
      "\n",
      "\n",
      "\n",
      "\n",
      "\n"
     ]
    }
   ],
   "source": [
    "# Create text file\n",
    "\n",
    "os.makedirs('posts',exist_ok=True)\n",
    "\n",
    "jobs=soup.find_all('li',class_='clearfix job-bx wht-shd-bx')\n",
    "for index,job in enumerate(jobs):\n",
    "    company_name=job.find('h3',class_='joblist-comp-name').text.strip()\n",
    "    skills=job.find('div', class_='srp-skills').text.replace(' ','')\n",
    "    more_info=job.header.h2.a['href']\n",
    "    with open(f'posts/{index}.txt','w',encoding='utf-8') as f:\n",
    "        f.write(f\"Company Name:{company_name.strip()}\")\n",
    "        f.write(f\"Required Skills: {skills.strip()}\")\n",
    "        f.write(f'More Info: {more_info}')\n",
    "        print('')\n"
   ]
  },
  {
   "cell_type": "code",
   "execution_count": 16,
   "id": "d2d55b99-cc8a-4edd-b078-d4580116ae53",
   "metadata": {},
   "outputs": [],
   "source": [
    "\n",
    "# Create CSV file\n",
    "os.makedirs('CSVposts', exist_ok=True)\n",
    "\n",
    "with open('CSVposts/Pythonjobs_data.csv', 'w', newline='', encoding='utf-8') as file:\n",
    "    writer = csv.writer(file)\n",
    "    writer.writerow(['Company Name', 'Required Skills', 'More Info'])\n",
    "\n",
    "    jobs = soup.find_all('li', class_='clearfix job-bx wht-shd-bx')\n",
    "    for job in jobs:\n",
    "        # Extract company name\n",
    "        company_name = job.find('h3', class_='joblist-comp-name').get_text(strip=True)\n",
    "\n",
    "        # Raw skill text cleanup\n",
    "        raw_skills = job.find('div', class_='srp-skills').get_text(separator=' ', strip=True)\n",
    "        # Split on space and rejoin with commas\n",
    "        skills_list = raw_skills.split()\n",
    "        skills_clean = ', '.join(skills_list)\n",
    "\n",
    "        # Job URL\n",
    "        more_info = job.header.h2.a['href']\n",
    "\n",
    "        # Write row to CSV\n",
    "        writer.writerow([company_name, skills_clean, more_info])"
   ]
  },
  {
   "cell_type": "code",
   "execution_count": null,
   "id": "e6f09c15-f045-42bc-9071-c2a7a126bdcd",
   "metadata": {},
   "outputs": [],
   "source": []
  }
 ],
 "metadata": {
  "kernelspec": {
   "display_name": "Python 3 (ipykernel)",
   "language": "python",
   "name": "python3"
  },
  "language_info": {
   "codemirror_mode": {
    "name": "ipython",
    "version": 3
   },
   "file_extension": ".py",
   "mimetype": "text/x-python",
   "name": "python",
   "nbconvert_exporter": "python",
   "pygments_lexer": "ipython3",
   "version": "3.12.7"
  }
 },
 "nbformat": 4,
 "nbformat_minor": 5
}
